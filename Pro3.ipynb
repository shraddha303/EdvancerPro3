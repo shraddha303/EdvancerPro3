{
 "cells": [
  {
   "cell_type": "code",
   "execution_count": 5,
   "metadata": {},
   "outputs": [],
   "source": [
    "train2=r'D:\\\\Users\\\\shrshirk\\\\Desktop\\\\ds\\\\Pro3\\\\counterfeit_train.csv'\n",
    "test2=r'D:\\\\Users\\\\shrshirk\\\\Desktop\\\\ds\\\\Pro3\\\\counterfeit_test.csv'"
   ]
  },
  {
   "cell_type": "code",
   "execution_count": 1,
   "metadata": {},
   "outputs": [],
   "source": [
    "import numpy as np\n",
    "import pandas as pd"
   ]
  },
  {
   "cell_type": "code",
   "execution_count": 6,
   "metadata": {},
   "outputs": [],
   "source": [
    "test=pd.read_csv(test2)\n",
    "train=pd.read_csv(train2)"
   ]
  },
  {
   "cell_type": "code",
   "execution_count": 7,
   "metadata": {},
   "outputs": [
    {
     "data": {
      "text/html": [
       "<div>\n",
       "<style scoped>\n",
       "    .dataframe tbody tr th:only-of-type {\n",
       "        vertical-align: middle;\n",
       "    }\n",
       "\n",
       "    .dataframe tbody tr th {\n",
       "        vertical-align: top;\n",
       "    }\n",
       "\n",
       "    .dataframe thead th {\n",
       "        text-align: right;\n",
       "    }\n",
       "</style>\n",
       "<table border=\"1\" class=\"dataframe\">\n",
       "  <thead>\n",
       "    <tr style=\"text-align: right;\">\n",
       "      <th></th>\n",
       "      <th>Medicine_ID</th>\n",
       "      <th>Counterfeit_Weight</th>\n",
       "      <th>DistArea_ID</th>\n",
       "      <th>Active_Since</th>\n",
       "      <th>Medicine_MRP</th>\n",
       "      <th>Medicine_Type</th>\n",
       "      <th>SidEffect_Level</th>\n",
       "      <th>Availability_rating</th>\n",
       "      <th>Area_Type</th>\n",
       "      <th>Area_City_Type</th>\n",
       "      <th>Area_dist_level</th>\n",
       "      <th>Counterfeit_Sales</th>\n",
       "    </tr>\n",
       "  </thead>\n",
       "  <tbody>\n",
       "    <tr>\n",
       "      <th>0</th>\n",
       "      <td>RRA15</td>\n",
       "      <td>13.100</td>\n",
       "      <td>Area046</td>\n",
       "      <td>1995</td>\n",
       "      <td>160.2366</td>\n",
       "      <td>Antimalarial</td>\n",
       "      <td>critical</td>\n",
       "      <td>0.070422</td>\n",
       "      <td>DownTown</td>\n",
       "      <td>Tier 1</td>\n",
       "      <td>Small</td>\n",
       "      <td>1775.5026</td>\n",
       "    </tr>\n",
       "    <tr>\n",
       "      <th>1</th>\n",
       "      <td>YVV26</td>\n",
       "      <td>NaN</td>\n",
       "      <td>Area027</td>\n",
       "      <td>1983</td>\n",
       "      <td>110.4384</td>\n",
       "      <td>Mstablizers</td>\n",
       "      <td>mild</td>\n",
       "      <td>0.013000</td>\n",
       "      <td>CityLimits</td>\n",
       "      <td>Tier 3</td>\n",
       "      <td>Medium</td>\n",
       "      <td>3069.1520</td>\n",
       "    </tr>\n",
       "    <tr>\n",
       "      <th>2</th>\n",
       "      <td>LJC15</td>\n",
       "      <td>9.025</td>\n",
       "      <td>Area046</td>\n",
       "      <td>1995</td>\n",
       "      <td>259.4092</td>\n",
       "      <td>Cardiac</td>\n",
       "      <td>mild</td>\n",
       "      <td>0.060783</td>\n",
       "      <td>DownTown</td>\n",
       "      <td>Tier 1</td>\n",
       "      <td>Small</td>\n",
       "      <td>2603.0920</td>\n",
       "    </tr>\n",
       "    <tr>\n",
       "      <th>3</th>\n",
       "      <td>GWC40</td>\n",
       "      <td>11.800</td>\n",
       "      <td>Area046</td>\n",
       "      <td>1995</td>\n",
       "      <td>99.9830</td>\n",
       "      <td>OralContraceptives</td>\n",
       "      <td>mild</td>\n",
       "      <td>0.065555</td>\n",
       "      <td>DownTown</td>\n",
       "      <td>Tier 1</td>\n",
       "      <td>Small</td>\n",
       "      <td>1101.7130</td>\n",
       "    </tr>\n",
       "    <tr>\n",
       "      <th>4</th>\n",
       "      <td>QMN13</td>\n",
       "      <td>NaN</td>\n",
       "      <td>Area019</td>\n",
       "      <td>1983</td>\n",
       "      <td>56.4402</td>\n",
       "      <td>Hreplacements</td>\n",
       "      <td>critical</td>\n",
       "      <td>0.248859</td>\n",
       "      <td>MidTownResidential</td>\n",
       "      <td>Tier 1</td>\n",
       "      <td>Small</td>\n",
       "      <td>158.9402</td>\n",
       "    </tr>\n",
       "  </tbody>\n",
       "</table>\n",
       "</div>"
      ],
      "text/plain": [
       "  Medicine_ID  Counterfeit_Weight DistArea_ID  Active_Since  Medicine_MRP  \\\n",
       "0       RRA15              13.100     Area046          1995      160.2366   \n",
       "1       YVV26                 NaN     Area027          1983      110.4384   \n",
       "2       LJC15               9.025     Area046          1995      259.4092   \n",
       "3       GWC40              11.800     Area046          1995       99.9830   \n",
       "4       QMN13                 NaN     Area019          1983       56.4402   \n",
       "\n",
       "        Medicine_Type SidEffect_Level  Availability_rating  \\\n",
       "0        Antimalarial        critical             0.070422   \n",
       "1         Mstablizers            mild             0.013000   \n",
       "2             Cardiac            mild             0.060783   \n",
       "3  OralContraceptives            mild             0.065555   \n",
       "4       Hreplacements        critical             0.248859   \n",
       "\n",
       "            Area_Type Area_City_Type Area_dist_level  Counterfeit_Sales  \n",
       "0            DownTown         Tier 1           Small          1775.5026  \n",
       "1          CityLimits         Tier 3          Medium          3069.1520  \n",
       "2            DownTown         Tier 1           Small          2603.0920  \n",
       "3            DownTown         Tier 1           Small          1101.7130  \n",
       "4  MidTownResidential         Tier 1           Small           158.9402  "
      ]
     },
     "execution_count": 7,
     "metadata": {},
     "output_type": "execute_result"
    }
   ],
   "source": [
    "train.head()"
   ]
  },
  {
   "cell_type": "code",
   "execution_count": 53,
   "metadata": {},
   "outputs": [
    {
     "data": {
      "text/plain": [
       "(1705, 1592)"
      ]
     },
     "execution_count": 53,
     "metadata": {},
     "output_type": "execute_result"
    }
   ],
   "source": [
    "test.shape"
   ]
  },
  {
   "cell_type": "code",
   "execution_count": 8,
   "metadata": {},
   "outputs": [
    {
     "data": {
      "text/html": [
       "<div>\n",
       "<style scoped>\n",
       "    .dataframe tbody tr th:only-of-type {\n",
       "        vertical-align: middle;\n",
       "    }\n",
       "\n",
       "    .dataframe tbody tr th {\n",
       "        vertical-align: top;\n",
       "    }\n",
       "\n",
       "    .dataframe thead th {\n",
       "        text-align: right;\n",
       "    }\n",
       "</style>\n",
       "<table border=\"1\" class=\"dataframe\">\n",
       "  <thead>\n",
       "    <tr style=\"text-align: right;\">\n",
       "      <th></th>\n",
       "      <th>Medicine_ID</th>\n",
       "      <th>Counterfeit_Weight</th>\n",
       "      <th>DistArea_ID</th>\n",
       "      <th>Active_Since</th>\n",
       "      <th>Medicine_MRP</th>\n",
       "      <th>Medicine_Type</th>\n",
       "      <th>SidEffect_Level</th>\n",
       "      <th>Availability_rating</th>\n",
       "      <th>Area_Type</th>\n",
       "      <th>Area_City_Type</th>\n",
       "      <th>Area_dist_level</th>\n",
       "    </tr>\n",
       "  </thead>\n",
       "  <tbody>\n",
       "    <tr>\n",
       "      <th>0</th>\n",
       "      <td>HLZ81</td>\n",
       "      <td>NaN</td>\n",
       "      <td>Area027</td>\n",
       "      <td>1983</td>\n",
       "      <td>85.5328</td>\n",
       "      <td>Antibiotics</td>\n",
       "      <td>mild</td>\n",
       "      <td>0.112747</td>\n",
       "      <td>CityLimits</td>\n",
       "      <td>Tier 3</td>\n",
       "      <td>Medium</td>\n",
       "    </tr>\n",
       "    <tr>\n",
       "      <th>1</th>\n",
       "      <td>ECE94</td>\n",
       "      <td>13.45</td>\n",
       "      <td>Area045</td>\n",
       "      <td>2000</td>\n",
       "      <td>257.1460</td>\n",
       "      <td>OralContraceptives</td>\n",
       "      <td>mild</td>\n",
       "      <td>0.144446</td>\n",
       "      <td>DownTown</td>\n",
       "      <td>Tier 2</td>\n",
       "      <td>Unknown</td>\n",
       "    </tr>\n",
       "    <tr>\n",
       "      <th>2</th>\n",
       "      <td>SAD14</td>\n",
       "      <td>7.10</td>\n",
       "      <td>Area045</td>\n",
       "      <td>2000</td>\n",
       "      <td>98.1172</td>\n",
       "      <td>Antipyretics</td>\n",
       "      <td>mild</td>\n",
       "      <td>0.144221</td>\n",
       "      <td>DownTown</td>\n",
       "      <td>Tier 2</td>\n",
       "      <td>Unknown</td>\n",
       "    </tr>\n",
       "    <tr>\n",
       "      <th>3</th>\n",
       "      <td>EQV63</td>\n",
       "      <td>18.30</td>\n",
       "      <td>Area010</td>\n",
       "      <td>1996</td>\n",
       "      <td>135.3730</td>\n",
       "      <td>Tranquilizers</td>\n",
       "      <td>mild</td>\n",
       "      <td>0.100388</td>\n",
       "      <td>MidTownResidential</td>\n",
       "      <td>Tier 3</td>\n",
       "      <td>Unknown</td>\n",
       "    </tr>\n",
       "    <tr>\n",
       "      <th>4</th>\n",
       "      <td>AIR10</td>\n",
       "      <td>NaN</td>\n",
       "      <td>Area019</td>\n",
       "      <td>1983</td>\n",
       "      <td>112.8016</td>\n",
       "      <td>OralContraceptives</td>\n",
       "      <td>mild</td>\n",
       "      <td>0.022585</td>\n",
       "      <td>MidTownResidential</td>\n",
       "      <td>Tier 1</td>\n",
       "      <td>Small</td>\n",
       "    </tr>\n",
       "  </tbody>\n",
       "</table>\n",
       "</div>"
      ],
      "text/plain": [
       "  Medicine_ID  Counterfeit_Weight DistArea_ID  Active_Since  Medicine_MRP  \\\n",
       "0       HLZ81                 NaN     Area027          1983       85.5328   \n",
       "1       ECE94               13.45     Area045          2000      257.1460   \n",
       "2       SAD14                7.10     Area045          2000       98.1172   \n",
       "3       EQV63               18.30     Area010          1996      135.3730   \n",
       "4       AIR10                 NaN     Area019          1983      112.8016   \n",
       "\n",
       "        Medicine_Type SidEffect_Level  Availability_rating  \\\n",
       "0         Antibiotics            mild             0.112747   \n",
       "1  OralContraceptives            mild             0.144446   \n",
       "2        Antipyretics            mild             0.144221   \n",
       "3       Tranquilizers            mild             0.100388   \n",
       "4  OralContraceptives            mild             0.022585   \n",
       "\n",
       "            Area_Type Area_City_Type Area_dist_level  \n",
       "0          CityLimits         Tier 3          Medium  \n",
       "1            DownTown         Tier 2         Unknown  \n",
       "2            DownTown         Tier 2         Unknown  \n",
       "3  MidTownResidential         Tier 3         Unknown  \n",
       "4  MidTownResidential         Tier 1           Small  "
      ]
     },
     "execution_count": 8,
     "metadata": {},
     "output_type": "execute_result"
    }
   ],
   "source": [
    "test.head()"
   ]
  },
  {
   "cell_type": "code",
   "execution_count": 9,
   "metadata": {},
   "outputs": [],
   "source": [
    "test['Counterfeit_Sales']=np.nan\n",
    "test['data']='test'\n",
    "train['data']='train'"
   ]
  },
  {
   "cell_type": "code",
   "execution_count": 10,
   "metadata": {},
   "outputs": [],
   "source": [
    "all_data=pd.concat([train,test], axis=0)"
   ]
  },
  {
   "cell_type": "code",
   "execution_count": 11,
   "metadata": {},
   "outputs": [
    {
     "data": {
      "text/plain": [
       "Medicine_ID             object\n",
       "Counterfeit_Weight     float64\n",
       "DistArea_ID             object\n",
       "Active_Since             int64\n",
       "Medicine_MRP           float64\n",
       "Medicine_Type           object\n",
       "SidEffect_Level         object\n",
       "Availability_rating    float64\n",
       "Area_Type               object\n",
       "Area_City_Type          object\n",
       "Area_dist_level         object\n",
       "Counterfeit_Sales      float64\n",
       "data                    object\n",
       "dtype: object"
      ]
     },
     "execution_count": 11,
     "metadata": {},
     "output_type": "execute_result"
    }
   ],
   "source": [
    "all_data.dtypes"
   ]
  },
  {
   "cell_type": "code",
   "execution_count": 27,
   "metadata": {
    "scrolled": true
   },
   "outputs": [
    {
     "name": "stdout",
     "output_type": "stream",
     "text": [
      "Help on function crosstab in module pandas.core.reshape.pivot:\n",
      "\n",
      "crosstab(index, columns, values=None, rownames=None, colnames=None, aggfunc=None, margins=False, margins_name='All', dropna=True, normalize=False)\n",
      "    Compute a simple cross-tabulation of two (or more) factors. By default\n",
      "    computes a frequency table of the factors unless an array of values and an\n",
      "    aggregation function are passed\n",
      "    \n",
      "    Parameters\n",
      "    ----------\n",
      "    index : array-like, Series, or list of arrays/Series\n",
      "        Values to group by in the rows\n",
      "    columns : array-like, Series, or list of arrays/Series\n",
      "        Values to group by in the columns\n",
      "    values : array-like, optional\n",
      "        Array of values to aggregate according to the factors.\n",
      "        Requires `aggfunc` be specified.\n",
      "    aggfunc : function, optional\n",
      "        If specified, requires `values` be specified as well\n",
      "    rownames : sequence, default None\n",
      "        If passed, must match number of row arrays passed\n",
      "    colnames : sequence, default None\n",
      "        If passed, must match number of column arrays passed\n",
      "    margins : boolean, default False\n",
      "        Add row/column margins (subtotals)\n",
      "    margins_name : string, default 'All'\n",
      "        Name of the row / column that will contain the totals\n",
      "        when margins is True.\n",
      "    \n",
      "        .. versionadded:: 0.21.0\n",
      "    \n",
      "    dropna : boolean, default True\n",
      "        Do not include columns whose entries are all NaN\n",
      "    normalize : boolean, {'all', 'index', 'columns'}, or {0,1}, default False\n",
      "        Normalize by dividing all values by the sum of values.\n",
      "    \n",
      "        - If passed 'all' or `True`, will normalize over all values.\n",
      "        - If passed 'index' will normalize over each row.\n",
      "        - If passed 'columns' will normalize over each column.\n",
      "        - If margins is `True`, will also normalize margin values.\n",
      "    \n",
      "        .. versionadded:: 0.18.1\n",
      "    \n",
      "    \n",
      "    Notes\n",
      "    -----\n",
      "    Any Series passed will have their name attributes used unless row or column\n",
      "    names for the cross-tabulation are specified.\n",
      "    \n",
      "    Any input passed containing Categorical data will have **all** of its\n",
      "    categories included in the cross-tabulation, even if the actual data does\n",
      "    not contain any instances of a particular category.\n",
      "    \n",
      "    In the event that there aren't overlapping indexes an empty DataFrame will\n",
      "    be returned.\n",
      "    \n",
      "    Examples\n",
      "    --------\n",
      "    >>> a = np.array([\"foo\", \"foo\", \"foo\", \"foo\", \"bar\", \"bar\",\n",
      "    ...               \"bar\", \"bar\", \"foo\", \"foo\", \"foo\"], dtype=object)\n",
      "    >>> b = np.array([\"one\", \"one\", \"one\", \"two\", \"one\", \"one\",\n",
      "    ...               \"one\", \"two\", \"two\", \"two\", \"one\"], dtype=object)\n",
      "    >>> c = np.array([\"dull\", \"dull\", \"shiny\", \"dull\", \"dull\", \"shiny\",\n",
      "    ...               \"shiny\", \"dull\", \"shiny\", \"shiny\", \"shiny\"],\n",
      "    ...               dtype=object)\n",
      "    \n",
      "    >>> pd.crosstab(a, [b, c], rownames=['a'], colnames=['b', 'c'])\n",
      "    ... # doctest: +NORMALIZE_WHITESPACE\n",
      "    b   one        two\n",
      "    c   dull shiny dull shiny\n",
      "    a\n",
      "    bar    1     2    1     0\n",
      "    foo    2     2    1     2\n",
      "    \n",
      "    >>> foo = pd.Categorical(['a', 'b'], categories=['a', 'b', 'c'])\n",
      "    >>> bar = pd.Categorical(['d', 'e'], categories=['d', 'e', 'f'])\n",
      "    >>> crosstab(foo, bar)  # 'c' and 'f' are not represented in the data,\n",
      "    ...                     # but they still will be counted in the output\n",
      "    ... # doctest: +SKIP\n",
      "    col_0  d  e  f\n",
      "    row_0\n",
      "    a      1  0  0\n",
      "    b      0  1  0\n",
      "    c      0  0  0\n",
      "    \n",
      "    Returns\n",
      "    -------\n",
      "    crosstab : DataFrame\n",
      "\n"
     ]
    }
   ],
   "source": [
    "help(pd.crosstab)"
   ]
  },
  {
   "cell_type": "code",
   "execution_count": 34,
   "metadata": {},
   "outputs": [
    {
     "data": {
      "text/plain": [
       "Medium     2793\n",
       "Unknown    2410\n",
       "Small      2388\n",
       "High        932\n",
       "Name: Area_dist_level, dtype: int64"
      ]
     },
     "execution_count": 34,
     "metadata": {},
     "output_type": "execute_result"
    }
   ],
   "source": [
    "all_data['Area_dist_level'].value_counts()"
   ]
  },
  {
   "cell_type": "code",
   "execution_count": 33,
   "metadata": {},
   "outputs": [
    {
     "data": {
      "text/plain": [
       "Tier 3    3350\n",
       "Tier 2    2785\n",
       "Tier 1    2388\n",
       "Name: Area_City_Type, dtype: int64"
      ]
     },
     "execution_count": 33,
     "metadata": {},
     "output_type": "execute_result"
    }
   ],
   "source": [
    "\n",
    "all_data['Area_City_Type'].value_counts()"
   ]
  },
  {
   "cell_type": "code",
   "execution_count": 13,
   "metadata": {},
   "outputs": [
    {
     "data": {
      "text/plain": [
       "(8523, 13)"
      ]
     },
     "execution_count": 13,
     "metadata": {},
     "output_type": "execute_result"
    }
   ],
   "source": [
    "all_data.shape"
   ]
  },
  {
   "cell_type": "code",
   "execution_count": 35,
   "metadata": {},
   "outputs": [],
   "source": [
    "del all_data['Area_dist_level']"
   ]
  },
  {
   "cell_type": "code",
   "execution_count": 36,
   "metadata": {},
   "outputs": [],
   "source": [
    "cat_vars=all_data.select_dtypes(['object']).columns"
   ]
  },
  {
   "cell_type": "code",
   "execution_count": 37,
   "metadata": {},
   "outputs": [
    {
     "data": {
      "text/plain": [
       "Index(['Medicine_ID', 'DistArea_ID', 'Medicine_Type', 'SidEffect_Level',\n",
       "       'Area_Type', 'Area_City_Type', 'data'],\n",
       "      dtype='object')"
      ]
     },
     "execution_count": 37,
     "metadata": {},
     "output_type": "execute_result"
    }
   ],
   "source": [
    "cat_vars"
   ]
  },
  {
   "cell_type": "code",
   "execution_count": 38,
   "metadata": {},
   "outputs": [
    {
     "name": "stdout",
     "output_type": "stream",
     "text": [
      "Medicine_ID\n",
      "DistArea_ID\n",
      "Medicine_Type\n",
      "SidEffect_Level\n",
      "Area_Type\n",
      "Area_City_Type\n"
     ]
    }
   ],
   "source": [
    "for col in cat_vars[:-1]:\n",
    "    dummy=pd.get_dummies(all_data[col],drop_first=True,prefix=col)\n",
    "    all_data=pd.concat([all_data,dummy],axis=1)\n",
    "    del all_data[col]\n",
    "    print(col)\n",
    "del dummy"
   ]
  },
  {
   "cell_type": "code",
   "execution_count": 39,
   "metadata": {},
   "outputs": [
    {
     "data": {
      "text/plain": [
       "Counterfeit_Weight                  float64\n",
       "Active_Since                          int64\n",
       "Medicine_MRP                        float64\n",
       "Availability_rating                 float64\n",
       "Counterfeit_Sales                   float64\n",
       "data                                 object\n",
       "Medicine_ID_AAS12                     uint8\n",
       "Medicine_ID_ACC80                     uint8\n",
       "Medicine_ID_ACW12                     uint8\n",
       "Medicine_ID_ADE15                     uint8\n",
       "Medicine_ID_ADO13                     uint8\n",
       "Medicine_ID_ADT76                     uint8\n",
       "Medicine_ID_AEF11                     uint8\n",
       "Medicine_ID_AEL80                     uint8\n",
       "Medicine_ID_AEN20                     uint8\n",
       "Medicine_ID_AEX84                     uint8\n",
       "Medicine_ID_AFO34                     uint8\n",
       "Medicine_ID_AFS55                     uint8\n",
       "Medicine_ID_AFT64                     uint8\n",
       "Medicine_ID_AGF42                     uint8\n",
       "Medicine_ID_AGR82                     uint8\n",
       "Medicine_ID_AHC49                     uint8\n",
       "Medicine_ID_AHC53                     uint8\n",
       "Medicine_ID_AHD74                     uint8\n",
       "Medicine_ID_AHF89                     uint8\n",
       "Medicine_ID_AHZ10                     uint8\n",
       "Medicine_ID_AHZ15                     uint8\n",
       "Medicine_ID_AIR10                     uint8\n",
       "Medicine_ID_AJA15                     uint8\n",
       "Medicine_ID_AJF83                     uint8\n",
       "                                     ...   \n",
       "DistArea_ID_Area013                   uint8\n",
       "DistArea_ID_Area017                   uint8\n",
       "DistArea_ID_Area018                   uint8\n",
       "DistArea_ID_Area019                   uint8\n",
       "DistArea_ID_Area027                   uint8\n",
       "DistArea_ID_Area035                   uint8\n",
       "DistArea_ID_Area045                   uint8\n",
       "DistArea_ID_Area046                   uint8\n",
       "DistArea_ID_Area049                   uint8\n",
       "Medicine_Type_Antacids                uint8\n",
       "Medicine_Type_Antibiotics             uint8\n",
       "Medicine_Type_Antifungal              uint8\n",
       "Medicine_Type_Antimalarial            uint8\n",
       "Medicine_Type_Antipyretics            uint8\n",
       "Medicine_Type_Antiseptics             uint8\n",
       "Medicine_Type_Antiviral               uint8\n",
       "Medicine_Type_Cardiac                 uint8\n",
       "Medicine_Type_Hreplacements           uint8\n",
       "Medicine_Type_Mstablizers             uint8\n",
       "Medicine_Type_MuscleRelaxants         uint8\n",
       "Medicine_Type_OralContraceptives      uint8\n",
       "Medicine_Type_Statins                 uint8\n",
       "Medicine_Type_Stimulants              uint8\n",
       "Medicine_Type_Tranquilizers           uint8\n",
       "SidEffect_Level_mild                  uint8\n",
       "Area_Type_DownTown                    uint8\n",
       "Area_Type_Industrial                  uint8\n",
       "Area_Type_MidTownResidential          uint8\n",
       "Area_City_Type_Tier 2                 uint8\n",
       "Area_City_Type_Tier 3                 uint8\n",
       "Length: 1592, dtype: object"
      ]
     },
     "execution_count": 39,
     "metadata": {},
     "output_type": "execute_result"
    }
   ],
   "source": [
    "all_data.dtypes"
   ]
  },
  {
   "cell_type": "code",
   "execution_count": 42,
   "metadata": {},
   "outputs": [
    {
     "data": {
      "text/plain": [
       "(8523, 1592)"
      ]
     },
     "execution_count": 42,
     "metadata": {},
     "output_type": "execute_result"
    }
   ],
   "source": [
    "all_data.shape"
   ]
  },
  {
   "cell_type": "code",
   "execution_count": 46,
   "metadata": {
    "scrolled": true
   },
   "outputs": [],
   "source": [
    "all_data['Counterfeit_Weight'].fillna(all_data['Counterfeit_Weight'].mean(), inplace=True)"
   ]
  },
  {
   "cell_type": "code",
   "execution_count": 49,
   "metadata": {},
   "outputs": [],
   "source": [
    "all_data['Counterfeit_Sales'].fillna(all_data['Counterfeit_Sales'].mean(), inplace=True)"
   ]
  },
  {
   "cell_type": "code",
   "execution_count": 50,
   "metadata": {},
   "outputs": [
    {
     "data": {
      "text/plain": [
       "Counterfeit_Weight                  0\n",
       "Active_Since                        0\n",
       "Medicine_MRP                        0\n",
       "Availability_rating                 0\n",
       "Counterfeit_Sales                   0\n",
       "data                                0\n",
       "Medicine_ID_AAS12                   0\n",
       "Medicine_ID_ACC80                   0\n",
       "Medicine_ID_ACW12                   0\n",
       "Medicine_ID_ADE15                   0\n",
       "Medicine_ID_ADO13                   0\n",
       "Medicine_ID_ADT76                   0\n",
       "Medicine_ID_AEF11                   0\n",
       "Medicine_ID_AEL80                   0\n",
       "Medicine_ID_AEN20                   0\n",
       "Medicine_ID_AEX84                   0\n",
       "Medicine_ID_AFO34                   0\n",
       "Medicine_ID_AFS55                   0\n",
       "Medicine_ID_AFT64                   0\n",
       "Medicine_ID_AGF42                   0\n",
       "Medicine_ID_AGR82                   0\n",
       "Medicine_ID_AHC49                   0\n",
       "Medicine_ID_AHC53                   0\n",
       "Medicine_ID_AHD74                   0\n",
       "Medicine_ID_AHF89                   0\n",
       "Medicine_ID_AHZ10                   0\n",
       "Medicine_ID_AHZ15                   0\n",
       "Medicine_ID_AIR10                   0\n",
       "Medicine_ID_AJA15                   0\n",
       "Medicine_ID_AJF83                   0\n",
       "                                   ..\n",
       "DistArea_ID_Area013                 0\n",
       "DistArea_ID_Area017                 0\n",
       "DistArea_ID_Area018                 0\n",
       "DistArea_ID_Area019                 0\n",
       "DistArea_ID_Area027                 0\n",
       "DistArea_ID_Area035                 0\n",
       "DistArea_ID_Area045                 0\n",
       "DistArea_ID_Area046                 0\n",
       "DistArea_ID_Area049                 0\n",
       "Medicine_Type_Antacids              0\n",
       "Medicine_Type_Antibiotics           0\n",
       "Medicine_Type_Antifungal            0\n",
       "Medicine_Type_Antimalarial          0\n",
       "Medicine_Type_Antipyretics          0\n",
       "Medicine_Type_Antiseptics           0\n",
       "Medicine_Type_Antiviral             0\n",
       "Medicine_Type_Cardiac               0\n",
       "Medicine_Type_Hreplacements         0\n",
       "Medicine_Type_Mstablizers           0\n",
       "Medicine_Type_MuscleRelaxants       0\n",
       "Medicine_Type_OralContraceptives    0\n",
       "Medicine_Type_Statins               0\n",
       "Medicine_Type_Stimulants            0\n",
       "Medicine_Type_Tranquilizers         0\n",
       "SidEffect_Level_mild                0\n",
       "Area_Type_DownTown                  0\n",
       "Area_Type_Industrial                0\n",
       "Area_Type_MidTownResidential        0\n",
       "Area_City_Type_Tier 2               0\n",
       "Area_City_Type_Tier 3               0\n",
       "Length: 1592, dtype: int64"
      ]
     },
     "execution_count": 50,
     "metadata": {},
     "output_type": "execute_result"
    }
   ],
   "source": [
    "all_data.isnull().sum()"
   ]
  },
  {
   "cell_type": "code",
   "execution_count": 51,
   "metadata": {},
   "outputs": [],
   "source": [
    "train=all_data[all_data['data']=='train']\n",
    "test=all_data[all_data['data']=='test']"
   ]
  },
  {
   "cell_type": "code",
   "execution_count": 52,
   "metadata": {},
   "outputs": [],
   "source": [
    "del train['data']"
   ]
  },
  {
   "cell_type": "code",
   "execution_count": 54,
   "metadata": {},
   "outputs": [
    {
     "name": "stderr",
     "output_type": "stream",
     "text": [
      "D:\\Users\\shrshirk\\Software\\Python\\anaconda\\lib\\site-packages\\pandas\\core\\frame.py:3694: SettingWithCopyWarning: \n",
      "A value is trying to be set on a copy of a slice from a DataFrame\n",
      "\n",
      "See the caveats in the documentation: http://pandas.pydata.org/pandas-docs/stable/indexing.html#indexing-view-versus-copy\n",
      "  errors=errors)\n"
     ]
    }
   ],
   "source": [
    "test.drop(['data','Counterfeit_Sales'],axis=1,inplace=True)"
   ]
  },
  {
   "cell_type": "code",
   "execution_count": 55,
   "metadata": {},
   "outputs": [],
   "source": [
    "from sklearn.model_selection import cross_val_predict, GridSearchCV\n",
    "from sklearn.ensemble import RandomForestRegressor\n",
    "from sklearn.preprocessing import MinMaxScaler"
   ]
  },
  {
   "cell_type": "code",
   "execution_count": 63,
   "metadata": {},
   "outputs": [],
   "source": [
    "from sklearn.model_selection import RandomizedSearchCV"
   ]
  },
  {
   "cell_type": "code",
   "execution_count": 56,
   "metadata": {},
   "outputs": [],
   "source": [
    "x_train=train.drop(['Counterfeit_Sales'], axis=1)"
   ]
  },
  {
   "cell_type": "code",
   "execution_count": 57,
   "metadata": {},
   "outputs": [],
   "source": [
    "y_train= train['Counterfeit_Sales']"
   ]
  },
  {
   "cell_type": "code",
   "execution_count": 96,
   "metadata": {},
   "outputs": [],
   "source": [
    "rfr = RandomForestRegressor( random_state=42)"
   ]
  },
  {
   "cell_type": "code",
   "execution_count": 98,
   "metadata": {},
   "outputs": [],
   "source": [
    "param_dist={'max_depth': range(3,7),\n",
    "            'n_estimators': (10, 50,15,20,25)}"
   ]
  },
  {
   "cell_type": "code",
   "execution_count": 99,
   "metadata": {},
   "outputs": [],
   "source": [
    "n_iter_search=10"
   ]
  },
  {
   "cell_type": "code",
   "execution_count": 100,
   "metadata": {},
   "outputs": [],
   "source": [
    "random_search = RandomizedSearchCV(rfr, param_distributions=param_dist,n_iter=n_iter_search,scoring='neg_mean_squared_error',cv=10,verbose=20)"
   ]
  },
  {
   "cell_type": "code",
   "execution_count": 101,
   "metadata": {},
   "outputs": [
    {
     "name": "stdout",
     "output_type": "stream",
     "text": [
      "Fitting 10 folds for each of 10 candidates, totalling 100 fits\n",
      "[CV] n_estimators=10, max_depth=5 ....................................\n",
      "[CV]  n_estimators=10, max_depth=5, score=-1037961.3388801338, total=   1.3s\n",
      "[CV] n_estimators=10, max_depth=5 ....................................\n"
     ]
    },
    {
     "name": "stderr",
     "output_type": "stream",
     "text": [
      "[Parallel(n_jobs=1)]: Done   1 out of   1 | elapsed:    1.4s remaining:    0.0s\n"
     ]
    },
    {
     "name": "stdout",
     "output_type": "stream",
     "text": [
      "[CV]  n_estimators=10, max_depth=5, score=-1178374.4018127304, total=   1.2s\n",
      "[CV] n_estimators=10, max_depth=5 ....................................\n"
     ]
    },
    {
     "name": "stderr",
     "output_type": "stream",
     "text": [
      "[Parallel(n_jobs=1)]: Done   2 out of   2 | elapsed:    2.7s remaining:    0.0s\n"
     ]
    },
    {
     "name": "stdout",
     "output_type": "stream",
     "text": [
      "[CV]  n_estimators=10, max_depth=5, score=-1122395.1506737818, total=   1.2s\n",
      "[CV] n_estimators=10, max_depth=5 ....................................\n"
     ]
    },
    {
     "name": "stderr",
     "output_type": "stream",
     "text": [
      "[Parallel(n_jobs=1)]: Done   3 out of   3 | elapsed:    4.2s remaining:    0.0s\n"
     ]
    },
    {
     "name": "stdout",
     "output_type": "stream",
     "text": [
      "[CV]  n_estimators=10, max_depth=5, score=-1121792.2381390259, total=   1.4s\n",
      "[CV] n_estimators=10, max_depth=5 ....................................\n"
     ]
    },
    {
     "name": "stderr",
     "output_type": "stream",
     "text": [
      "[Parallel(n_jobs=1)]: Done   4 out of   4 | elapsed:    5.8s remaining:    0.0s\n"
     ]
    },
    {
     "name": "stdout",
     "output_type": "stream",
     "text": [
      "[CV]  n_estimators=10, max_depth=5, score=-1376161.2745982413, total=   1.3s\n",
      "[CV] n_estimators=10, max_depth=5 ....................................\n"
     ]
    },
    {
     "name": "stderr",
     "output_type": "stream",
     "text": [
      "[Parallel(n_jobs=1)]: Done   5 out of   5 | elapsed:    7.3s remaining:    0.0s\n"
     ]
    },
    {
     "name": "stdout",
     "output_type": "stream",
     "text": [
      "[CV]  n_estimators=10, max_depth=5, score=-1132959.8286827963, total=   1.3s\n",
      "[CV] n_estimators=10, max_depth=5 ....................................\n"
     ]
    },
    {
     "name": "stderr",
     "output_type": "stream",
     "text": [
      "[Parallel(n_jobs=1)]: Done   6 out of   6 | elapsed:    8.8s remaining:    0.0s\n"
     ]
    },
    {
     "name": "stdout",
     "output_type": "stream",
     "text": [
      "[CV]  n_estimators=10, max_depth=5, score=-1054504.4894946634, total=   1.2s\n",
      "[CV] n_estimators=10, max_depth=5 ....................................\n"
     ]
    },
    {
     "name": "stderr",
     "output_type": "stream",
     "text": [
      "[Parallel(n_jobs=1)]: Done   7 out of   7 | elapsed:   10.1s remaining:    0.0s\n"
     ]
    },
    {
     "name": "stdout",
     "output_type": "stream",
     "text": [
      "[CV]  n_estimators=10, max_depth=5, score=-1091409.1458124178, total=   1.2s\n",
      "[CV] n_estimators=10, max_depth=5 ....................................\n"
     ]
    },
    {
     "name": "stderr",
     "output_type": "stream",
     "text": [
      "[Parallel(n_jobs=1)]: Done   8 out of   8 | elapsed:   11.5s remaining:    0.0s\n"
     ]
    },
    {
     "name": "stdout",
     "output_type": "stream",
     "text": [
      "[CV]  n_estimators=10, max_depth=5, score=-1234631.9174788976, total=   1.3s\n",
      "[CV] n_estimators=10, max_depth=5 ....................................\n"
     ]
    },
    {
     "name": "stderr",
     "output_type": "stream",
     "text": [
      "[Parallel(n_jobs=1)]: Done   9 out of   9 | elapsed:   13.0s remaining:    0.0s\n"
     ]
    },
    {
     "name": "stdout",
     "output_type": "stream",
     "text": [
      "[CV]  n_estimators=10, max_depth=5, score=-1151009.147108806, total=   1.2s\n",
      "[CV] n_estimators=50, max_depth=4 ....................................\n"
     ]
    },
    {
     "name": "stderr",
     "output_type": "stream",
     "text": [
      "[Parallel(n_jobs=1)]: Done  10 out of  10 | elapsed:   14.4s remaining:    0.0s\n"
     ]
    },
    {
     "name": "stdout",
     "output_type": "stream",
     "text": [
      "[CV]  n_estimators=50, max_depth=4, score=-1077178.7429470962, total=   5.2s\n",
      "[CV] n_estimators=50, max_depth=4 ....................................\n"
     ]
    },
    {
     "name": "stderr",
     "output_type": "stream",
     "text": [
      "[Parallel(n_jobs=1)]: Done  11 out of  11 | elapsed:   19.7s remaining:    0.0s\n"
     ]
    },
    {
     "name": "stdout",
     "output_type": "stream",
     "text": [
      "[CV]  n_estimators=50, max_depth=4, score=-1186289.040606706, total=   5.1s\n",
      "[CV] n_estimators=50, max_depth=4 ....................................\n"
     ]
    },
    {
     "name": "stderr",
     "output_type": "stream",
     "text": [
      "[Parallel(n_jobs=1)]: Done  12 out of  12 | elapsed:   25.0s remaining:    0.0s\n"
     ]
    },
    {
     "name": "stdout",
     "output_type": "stream",
     "text": [
      "[CV]  n_estimators=50, max_depth=4, score=-1130266.2226885161, total=   5.4s\n",
      "[CV] n_estimators=50, max_depth=4 ....................................\n"
     ]
    },
    {
     "name": "stderr",
     "output_type": "stream",
     "text": [
      "[Parallel(n_jobs=1)]: Done  13 out of  13 | elapsed:   30.5s remaining:    0.0s\n"
     ]
    },
    {
     "name": "stdout",
     "output_type": "stream",
     "text": [
      "[CV]  n_estimators=50, max_depth=4, score=-1132186.5959921156, total=   5.2s\n",
      "[CV] n_estimators=50, max_depth=4 ....................................\n"
     ]
    },
    {
     "name": "stderr",
     "output_type": "stream",
     "text": [
      "[Parallel(n_jobs=1)]: Done  14 out of  14 | elapsed:   35.9s remaining:    0.0s\n"
     ]
    },
    {
     "name": "stdout",
     "output_type": "stream",
     "text": [
      "[CV]  n_estimators=50, max_depth=4, score=-1398703.3309922945, total=   5.1s\n",
      "[CV] n_estimators=50, max_depth=4 ....................................\n"
     ]
    },
    {
     "name": "stderr",
     "output_type": "stream",
     "text": [
      "[Parallel(n_jobs=1)]: Done  15 out of  15 | elapsed:   41.1s remaining:    0.0s\n"
     ]
    },
    {
     "name": "stdout",
     "output_type": "stream",
     "text": [
      "[CV]  n_estimators=50, max_depth=4, score=-1129915.8135409113, total=   5.3s\n",
      "[CV] n_estimators=50, max_depth=4 ....................................\n"
     ]
    },
    {
     "name": "stderr",
     "output_type": "stream",
     "text": [
      "[Parallel(n_jobs=1)]: Done  16 out of  16 | elapsed:   46.6s remaining:    0.0s\n"
     ]
    },
    {
     "name": "stdout",
     "output_type": "stream",
     "text": [
      "[CV]  n_estimators=50, max_depth=4, score=-1083969.5666924901, total=   5.3s\n",
      "[CV] n_estimators=50, max_depth=4 ....................................\n"
     ]
    },
    {
     "name": "stderr",
     "output_type": "stream",
     "text": [
      "[Parallel(n_jobs=1)]: Done  17 out of  17 | elapsed:   52.1s remaining:    0.0s\n"
     ]
    },
    {
     "name": "stdout",
     "output_type": "stream",
     "text": [
      "[CV]  n_estimators=50, max_depth=4, score=-1106623.1880472754, total=   6.0s\n",
      "[CV] n_estimators=50, max_depth=4 ....................................\n"
     ]
    },
    {
     "name": "stderr",
     "output_type": "stream",
     "text": [
      "[Parallel(n_jobs=1)]: Done  18 out of  18 | elapsed:   58.4s remaining:    0.0s\n"
     ]
    },
    {
     "name": "stdout",
     "output_type": "stream",
     "text": [
      "[CV]  n_estimators=50, max_depth=4, score=-1257206.0176902548, total=   5.6s\n",
      "[CV] n_estimators=50, max_depth=4 ....................................\n"
     ]
    },
    {
     "name": "stderr",
     "output_type": "stream",
     "text": [
      "[Parallel(n_jobs=1)]: Done  19 out of  19 | elapsed:  1.1min remaining:    0.0s\n"
     ]
    },
    {
     "name": "stdout",
     "output_type": "stream",
     "text": [
      "[CV]  n_estimators=50, max_depth=4, score=-1179867.7193458742, total=   5.6s\n",
      "[CV] n_estimators=15, max_depth=3 ....................................\n",
      "[CV]  n_estimators=15, max_depth=3, score=-1249753.3670665987, total=   1.3s\n",
      "[CV] n_estimators=15, max_depth=3 ....................................\n",
      "[CV]  n_estimators=15, max_depth=3, score=-1317419.405835852, total=   1.2s\n",
      "[CV] n_estimators=15, max_depth=3 ....................................\n",
      "[CV]  n_estimators=15, max_depth=3, score=-1170202.6896885312, total=   1.3s\n",
      "[CV] n_estimators=15, max_depth=3 ....................................\n",
      "[CV]  n_estimators=15, max_depth=3, score=-1321598.704109524, total=   1.3s\n",
      "[CV] n_estimators=15, max_depth=3 ....................................\n",
      "[CV]  n_estimators=15, max_depth=3, score=-1585113.8872790297, total=   1.4s\n",
      "[CV] n_estimators=15, max_depth=3 ....................................\n",
      "[CV]  n_estimators=15, max_depth=3, score=-1342448.523056751, total=   1.4s\n",
      "[CV] n_estimators=15, max_depth=3 ....................................\n",
      "[CV]  n_estimators=15, max_depth=3, score=-1196546.80152156, total=   1.3s\n",
      "[CV] n_estimators=15, max_depth=3 ....................................\n",
      "[CV]  n_estimators=15, max_depth=3, score=-1189177.9114257805, total=   1.3s\n",
      "[CV] n_estimators=15, max_depth=3 ....................................\n",
      "[CV]  n_estimators=15, max_depth=3, score=-1411901.6848915396, total=   1.2s\n",
      "[CV] n_estimators=15, max_depth=3 ....................................\n",
      "[CV]  n_estimators=15, max_depth=3, score=-1234721.2431607544, total=   1.2s\n",
      "[CV] n_estimators=25, max_depth=5 ....................................\n",
      "[CV]  n_estimators=25, max_depth=5, score=-1038456.5458117486, total=   3.0s\n",
      "[CV] n_estimators=25, max_depth=5 ....................................\n",
      "[CV]  n_estimators=25, max_depth=5, score=-1177744.5226393803, total=   2.9s\n",
      "[CV] n_estimators=25, max_depth=5 ....................................\n",
      "[CV]  n_estimators=25, max_depth=5, score=-1117922.618860278, total=   2.9s\n",
      "[CV] n_estimators=25, max_depth=5 ....................................\n",
      "[CV]  n_estimators=25, max_depth=5, score=-1117993.417643778, total=   3.0s\n",
      "[CV] n_estimators=25, max_depth=5 ....................................\n",
      "[CV]  n_estimators=25, max_depth=5, score=-1392414.3737069902, total=   2.9s\n",
      "[CV] n_estimators=25, max_depth=5 ....................................\n",
      "[CV]  n_estimators=25, max_depth=5, score=-1129094.529985929, total=   3.0s\n",
      "[CV] n_estimators=25, max_depth=5 ....................................\n",
      "[CV]  n_estimators=25, max_depth=5, score=-1058969.1990630478, total=   2.9s\n",
      "[CV] n_estimators=25, max_depth=5 ....................................\n",
      "[CV]  n_estimators=25, max_depth=5, score=-1081666.2932015164, total=   2.9s\n",
      "[CV] n_estimators=25, max_depth=5 ....................................\n",
      "[CV]  n_estimators=25, max_depth=5, score=-1225684.3090917228, total=   2.9s\n",
      "[CV] n_estimators=25, max_depth=5 ....................................\n",
      "[CV]  n_estimators=25, max_depth=5, score=-1148112.1014415543, total=   2.9s\n",
      "[CV] n_estimators=25, max_depth=6 ....................................\n",
      "[CV]  n_estimators=25, max_depth=6, score=-1038980.674646494, total=   3.3s\n",
      "[CV] n_estimators=25, max_depth=6 ....................................\n",
      "[CV]  n_estimators=25, max_depth=6, score=-1173946.9850940148, total=   3.3s\n",
      "[CV] n_estimators=25, max_depth=6 ....................................\n",
      "[CV]  n_estimators=25, max_depth=6, score=-1111897.4958973418, total=   3.3s\n",
      "[CV] n_estimators=25, max_depth=6 ....................................\n",
      "[CV]  n_estimators=25, max_depth=6, score=-1114739.013093945, total=   3.3s\n",
      "[CV] n_estimators=25, max_depth=6 ....................................\n",
      "[CV]  n_estimators=25, max_depth=6, score=-1390629.6403661135, total=   3.2s\n",
      "[CV] n_estimators=25, max_depth=6 ....................................\n",
      "[CV]  n_estimators=25, max_depth=6, score=-1123743.8096860154, total=   3.3s\n",
      "[CV] n_estimators=25, max_depth=6 ....................................\n",
      "[CV]  n_estimators=25, max_depth=6, score=-1058326.7522086268, total=   3.3s\n",
      "[CV] n_estimators=25, max_depth=6 ....................................\n",
      "[CV]  n_estimators=25, max_depth=6, score=-1088964.8091410247, total=   3.4s\n",
      "[CV] n_estimators=25, max_depth=6 ....................................\n",
      "[CV]  n_estimators=25, max_depth=6, score=-1219507.3376848386, total=   3.4s\n",
      "[CV] n_estimators=25, max_depth=6 ....................................\n",
      "[CV]  n_estimators=25, max_depth=6, score=-1146644.9923513185, total=   3.4s\n",
      "[CV] n_estimators=10, max_depth=3 ....................................\n",
      "[CV]  n_estimators=10, max_depth=3, score=-1250105.121761764, total=   0.8s\n",
      "[CV] n_estimators=10, max_depth=3 ....................................\n",
      "[CV]  n_estimators=10, max_depth=3, score=-1326104.0443127826, total=   0.8s\n",
      "[CV] n_estimators=10, max_depth=3 ....................................\n",
      "[CV]  n_estimators=10, max_depth=3, score=-1184375.5158526138, total=   0.8s\n",
      "[CV] n_estimators=10, max_depth=3 ....................................\n",
      "[CV]  n_estimators=10, max_depth=3, score=-1314981.7119348852, total=   0.8s\n",
      "[CV] n_estimators=10, max_depth=3 ....................................\n",
      "[CV]  n_estimators=10, max_depth=3, score=-1589609.7657398628, total=   0.8s\n",
      "[CV] n_estimators=10, max_depth=3 ....................................\n",
      "[CV]  n_estimators=10, max_depth=3, score=-1364904.3590837675, total=   0.8s\n",
      "[CV] n_estimators=10, max_depth=3 ....................................\n",
      "[CV]  n_estimators=10, max_depth=3, score=-1215086.5415462186, total=   0.8s\n",
      "[CV] n_estimators=10, max_depth=3 ....................................\n",
      "[CV]  n_estimators=10, max_depth=3, score=-1187811.3634405965, total=   0.9s\n",
      "[CV] n_estimators=10, max_depth=3 ....................................\n",
      "[CV]  n_estimators=10, max_depth=3, score=-1399935.419846889, total=   0.8s\n",
      "[CV] n_estimators=10, max_depth=3 ....................................\n",
      "[CV]  n_estimators=10, max_depth=3, score=-1225368.2666143395, total=   0.9s\n",
      "[CV] n_estimators=50, max_depth=6 ....................................\n",
      "[CV]  n_estimators=50, max_depth=6, score=-1042660.4063926295, total=   6.8s\n",
      "[CV] n_estimators=50, max_depth=6 ....................................\n",
      "[CV]  n_estimators=50, max_depth=6, score=-1172092.7838752477, total=   6.9s\n",
      "[CV] n_estimators=50, max_depth=6 ....................................\n",
      "[CV]  n_estimators=50, max_depth=6, score=-1112279.8367404416, total=   6.9s\n",
      "[CV] n_estimators=50, max_depth=6 ....................................\n",
      "[CV]  n_estimators=50, max_depth=6, score=-1119358.8991402532, total=   7.3s\n",
      "[CV] n_estimators=50, max_depth=6 ....................................\n",
      "[CV]  n_estimators=50, max_depth=6, score=-1390175.09026858, total=   7.1s\n",
      "[CV] n_estimators=50, max_depth=6 ....................................\n",
      "[CV]  n_estimators=50, max_depth=6, score=-1123154.0738793332, total=   6.9s\n",
      "[CV] n_estimators=50, max_depth=6 ....................................\n",
      "[CV]  n_estimators=50, max_depth=6, score=-1058213.0035804044, total=   6.8s\n",
      "[CV] n_estimators=50, max_depth=6 ....................................\n",
      "[CV]  n_estimators=50, max_depth=6, score=-1083852.1027464776, total=   8.2s\n",
      "[CV] n_estimators=50, max_depth=6 ....................................\n",
      "[CV]  n_estimators=50, max_depth=6, score=-1219395.470162809, total=   7.3s\n",
      "[CV] n_estimators=50, max_depth=6 ....................................\n",
      "[CV]  n_estimators=50, max_depth=6, score=-1143382.315879691, total=   7.3s\n",
      "[CV] n_estimators=25, max_depth=4 ....................................\n",
      "[CV]  n_estimators=25, max_depth=4, score=-1076958.3651592731, total=   2.8s\n",
      "[CV] n_estimators=25, max_depth=4 ....................................\n",
      "[CV]  n_estimators=25, max_depth=4, score=-1190663.0648871246, total=   2.8s\n",
      "[CV] n_estimators=25, max_depth=4 ....................................\n",
      "[CV]  n_estimators=25, max_depth=4, score=-1130907.2394891588, total=   2.8s\n",
      "[CV] n_estimators=25, max_depth=4 ....................................\n",
      "[CV]  n_estimators=25, max_depth=4, score=-1131450.1290476199, total=   2.8s\n",
      "[CV] n_estimators=25, max_depth=4 ....................................\n",
      "[CV]  n_estimators=25, max_depth=4, score=-1396831.9136608003, total=   2.8s\n",
      "[CV] n_estimators=25, max_depth=4 ....................................\n"
     ]
    },
    {
     "name": "stdout",
     "output_type": "stream",
     "text": [
      "[CV]  n_estimators=25, max_depth=4, score=-1130859.3466007432, total=   2.6s\n",
      "[CV] n_estimators=25, max_depth=4 ....................................\n",
      "[CV]  n_estimators=25, max_depth=4, score=-1083099.9067566243, total=   2.7s\n",
      "[CV] n_estimators=25, max_depth=4 ....................................\n",
      "[CV]  n_estimators=25, max_depth=4, score=-1115385.7482244675, total=   2.8s\n",
      "[CV] n_estimators=25, max_depth=4 ....................................\n",
      "[CV]  n_estimators=25, max_depth=4, score=-1260440.2643796839, total=   2.9s\n",
      "[CV] n_estimators=25, max_depth=4 ....................................\n",
      "[CV]  n_estimators=25, max_depth=4, score=-1182414.4223374596, total=   2.9s\n",
      "[CV] n_estimators=25, max_depth=3 ....................................\n",
      "[CV]  n_estimators=25, max_depth=3, score=-1255097.7642927053, total=   2.2s\n",
      "[CV] n_estimators=25, max_depth=3 ....................................\n",
      "[CV]  n_estimators=25, max_depth=3, score=-1322002.635786426, total=   2.2s\n",
      "[CV] n_estimators=25, max_depth=3 ....................................\n",
      "[CV]  n_estimators=25, max_depth=3, score=-1176589.575393248, total=   2.2s\n",
      "[CV] n_estimators=25, max_depth=3 ....................................\n",
      "[CV]  n_estimators=25, max_depth=3, score=-1322333.6967504479, total=   2.2s\n",
      "[CV] n_estimators=25, max_depth=3 ....................................\n",
      "[CV]  n_estimators=25, max_depth=3, score=-1584871.937522587, total=   2.2s\n",
      "[CV] n_estimators=25, max_depth=3 ....................................\n",
      "[CV]  n_estimators=25, max_depth=3, score=-1343292.944437613, total=   2.3s\n",
      "[CV] n_estimators=25, max_depth=3 ....................................\n",
      "[CV]  n_estimators=25, max_depth=3, score=-1207198.5390060826, total=   2.3s\n",
      "[CV] n_estimators=25, max_depth=3 ....................................\n",
      "[CV]  n_estimators=25, max_depth=3, score=-1168888.0001239812, total=   2.2s\n",
      "[CV] n_estimators=25, max_depth=3 ....................................\n",
      "[CV]  n_estimators=25, max_depth=3, score=-1411038.704926554, total=   2.2s\n",
      "[CV] n_estimators=25, max_depth=3 ....................................\n",
      "[CV]  n_estimators=25, max_depth=3, score=-1229418.5280753223, total=   2.2s\n",
      "[CV] n_estimators=15, max_depth=6 ....................................\n",
      "[CV]  n_estimators=15, max_depth=6, score=-1035350.7840122923, total=   2.3s\n",
      "[CV] n_estimators=15, max_depth=6 ....................................\n",
      "[CV]  n_estimators=15, max_depth=6, score=-1175532.8209903012, total=   1.9s\n",
      "[CV] n_estimators=15, max_depth=6 ....................................\n",
      "[CV]  n_estimators=15, max_depth=6, score=-1114614.9844781836, total=   2.0s\n",
      "[CV] n_estimators=15, max_depth=6 ....................................\n",
      "[CV]  n_estimators=15, max_depth=6, score=-1113767.0988420912, total=   2.0s\n",
      "[CV] n_estimators=15, max_depth=6 ....................................\n",
      "[CV]  n_estimators=15, max_depth=6, score=-1389544.7735585265, total=   1.9s\n",
      "[CV] n_estimators=15, max_depth=6 ....................................\n",
      "[CV]  n_estimators=15, max_depth=6, score=-1125819.3086940958, total=   1.9s\n",
      "[CV] n_estimators=15, max_depth=6 ....................................\n",
      "[CV]  n_estimators=15, max_depth=6, score=-1058199.961651697, total=   1.9s\n",
      "[CV] n_estimators=15, max_depth=6 ....................................\n",
      "[CV]  n_estimators=15, max_depth=6, score=-1101632.9168488244, total=   1.9s\n",
      "[CV] n_estimators=15, max_depth=6 ....................................\n",
      "[CV]  n_estimators=15, max_depth=6, score=-1222922.7069135518, total=   1.9s\n",
      "[CV] n_estimators=15, max_depth=6 ....................................\n",
      "[CV]  n_estimators=15, max_depth=6, score=-1155215.6772196281, total=   2.0s\n"
     ]
    },
    {
     "name": "stderr",
     "output_type": "stream",
     "text": [
      "[Parallel(n_jobs=1)]: Done 100 out of 100 | elapsed:  5.2min finished\n"
     ]
    },
    {
     "data": {
      "text/plain": [
       "RandomizedSearchCV(cv=10, error_score='raise',\n",
       "          estimator=RandomForestRegressor(bootstrap=True, criterion='mse', max_depth=2,\n",
       "           max_features='auto', max_leaf_nodes=None,\n",
       "           min_impurity_decrease=0.0, min_impurity_split=None,\n",
       "           min_samples_leaf=1, min_samples_split=2,\n",
       "           min_weight_fraction_leaf=0.0, n_estimators=100, n_jobs=1,\n",
       "           oob_score=False, random_state=0, verbose=0, warm_start=False),\n",
       "          fit_params=None, iid=True, n_iter=10, n_jobs=1,\n",
       "          param_distributions={'max_depth': range(3, 7), 'n_estimators': (10, 50, 15, 20, 25)},\n",
       "          pre_dispatch='2*n_jobs', random_state=None, refit=True,\n",
       "          return_train_score='warn', scoring='neg_mean_squared_error',\n",
       "          verbose=20)"
      ]
     },
     "execution_count": 101,
     "metadata": {},
     "output_type": "execute_result"
    }
   ],
   "source": [
    "random_search.fit(x_train, y_train)"
   ]
  },
  {
   "cell_type": "code",
   "execution_count": 102,
   "metadata": {},
   "outputs": [
    {
     "data": {
      "text/plain": [
       "RandomForestRegressor(bootstrap=True, criterion='mse', max_depth=6,\n",
       "           max_features='auto', max_leaf_nodes=None,\n",
       "           min_impurity_decrease=0.0, min_impurity_split=None,\n",
       "           min_samples_leaf=1, min_samples_split=2,\n",
       "           min_weight_fraction_leaf=0.0, n_estimators=50, n_jobs=1,\n",
       "           oob_score=False, random_state=0, verbose=0, warm_start=False)"
      ]
     },
     "execution_count": 102,
     "metadata": {},
     "output_type": "execute_result"
    }
   ],
   "source": [
    "random_search.best_estimator_"
   ]
  },
  {
   "cell_type": "code",
   "execution_count": 103,
   "metadata": {},
   "outputs": [],
   "source": [
    "\n",
    "def report(results, n_top=3):\n",
    "    for i in range(1, n_top + 1):\n",
    "        # np.flatnonzero extracts index of `True` in a boolean array\n",
    "        candidate = np.flatnonzero(results['rank_test_score'] == i)[0]\n",
    "        # print rank of the model\n",
    "        # values passed to function format here are put in the curly brackets when printing\n",
    "        # 0 , 1 etc refer to placeholder for position of values passed to format function\n",
    "        # .3f means upto 2 decimal digits\n",
    "        print(\"Model with rank: {0}\".format(i))\n",
    "        # this prints cross validated performance and its standard deviation\n",
    "        print(\"Mean validation score: {0:.5f} (std: {1:.5f})\".format(\n",
    "            results['mean_test_score'][candidate],\n",
    "            results['std_test_score'][candidate]))\n",
    "        # prints the paramter combination for which this performance was obtained\n",
    "        print(\"Parameters: {0}\".format(results['params'][candidate]))\n",
    "        print(\"\")\n"
   ]
  },
  {
   "cell_type": "code",
   "execution_count": 105,
   "metadata": {},
   "outputs": [
    {
     "name": "stdout",
     "output_type": "stream",
     "text": [
      "Model with rank: 1\n",
      "Mean validation score: -1146446.15113 (std: 95041.76439)\n",
      "Parameters: {'n_estimators': 50, 'max_depth': 6}\n",
      "\n",
      "Model with rank: 2\n",
      "Mean validation score: -1146727.49158 (std: 95430.73281)\n",
      "Parameters: {'n_estimators': 25, 'max_depth': 6}\n",
      "\n",
      "Model with rank: 3\n",
      "Mean validation score: -1148794.61707 (std: 96518.91969)\n",
      "Parameters: {'n_estimators': 25, 'max_depth': 5}\n",
      "\n",
      "Model with rank: 4\n",
      "Mean validation score: -1149248.42568 (std: 95106.40474)\n",
      "Parameters: {'n_estimators': 15, 'max_depth': 6}\n",
      "\n",
      "Model with rank: 5\n",
      "Mean validation score: -1150107.36741 (std: 92782.13720)\n",
      "Parameters: {'n_estimators': 10, 'max_depth': 5}\n",
      "\n"
     ]
    }
   ],
   "source": [
    "report(random_search.cv_results_,5)"
   ]
  },
  {
   "cell_type": "code",
   "execution_count": 69,
   "metadata": {},
   "outputs": [],
   "source": [
    "rf=RandomForestRegressor(bootstrap=True, criterion='mse', max_depth=5,\n",
    "           max_features='auto', max_leaf_nodes=None,\n",
    "           min_impurity_decrease=0.0, min_impurity_split=None,\n",
    "           min_samples_leaf=1, min_samples_split=2,\n",
    "           min_weight_fraction_leaf=0.0, n_estimators=10, n_jobs=1,\n",
    "           oob_score=False, random_state=0, verbose=0, warm_start=False)"
   ]
  },
  {
   "cell_type": "code",
   "execution_count": 70,
   "metadata": {},
   "outputs": [
    {
     "data": {
      "text/plain": [
       "RandomForestRegressor(bootstrap=True, criterion='mse', max_depth=5,\n",
       "           max_features='auto', max_leaf_nodes=None,\n",
       "           min_impurity_decrease=0.0, min_impurity_split=None,\n",
       "           min_samples_leaf=1, min_samples_split=2,\n",
       "           min_weight_fraction_leaf=0.0, n_estimators=10, n_jobs=1,\n",
       "           oob_score=False, random_state=0, verbose=0, warm_start=False)"
      ]
     },
     "execution_count": 70,
     "metadata": {},
     "output_type": "execute_result"
    }
   ],
   "source": [
    "rf.fit(x_train,y_train)"
   ]
  },
  {
   "cell_type": "code",
   "execution_count": 71,
   "metadata": {},
   "outputs": [],
   "source": [
    "test_score=rf.predict(test)"
   ]
  },
  {
   "cell_type": "code",
   "execution_count": 72,
   "metadata": {},
   "outputs": [
    {
     "data": {
      "text/plain": [
       "array([2119.85776323, 4052.38608642, 1578.20358895, ..., 2934.80853295,\n",
       "       3957.09263262, 4005.8332279 ])"
      ]
     },
     "execution_count": 72,
     "metadata": {},
     "output_type": "execute_result"
    }
   ],
   "source": [
    "test_score"
   ]
  },
  {
   "cell_type": "code",
   "execution_count": 73,
   "metadata": {},
   "outputs": [],
   "source": [
    "test3=pd.read_csv(test2)"
   ]
  },
  {
   "cell_type": "code",
   "execution_count": 76,
   "metadata": {},
   "outputs": [],
   "source": [
    "mid=test3['Medicine_ID']"
   ]
  },
  {
   "cell_type": "code",
   "execution_count": 77,
   "metadata": {},
   "outputs": [],
   "source": [
    "mid=pd.DataFrame(mid)"
   ]
  },
  {
   "cell_type": "code",
   "execution_count": 78,
   "metadata": {},
   "outputs": [],
   "source": [
    "target=pd.DataFrame(test_score)"
   ]
  },
  {
   "cell_type": "code",
   "execution_count": 83,
   "metadata": {},
   "outputs": [],
   "source": [
    "target=target.rename(columns={0:'Counterfeit_Sales'})"
   ]
  },
  {
   "cell_type": "code",
   "execution_count": 85,
   "metadata": {},
   "outputs": [],
   "source": [
    "final=pd.concat([mid,target],axis=1)"
   ]
  },
  {
   "cell_type": "code",
   "execution_count": 86,
   "metadata": {},
   "outputs": [
    {
     "data": {
      "text/html": [
       "<div>\n",
       "<style scoped>\n",
       "    .dataframe tbody tr th:only-of-type {\n",
       "        vertical-align: middle;\n",
       "    }\n",
       "\n",
       "    .dataframe tbody tr th {\n",
       "        vertical-align: top;\n",
       "    }\n",
       "\n",
       "    .dataframe thead th {\n",
       "        text-align: right;\n",
       "    }\n",
       "</style>\n",
       "<table border=\"1\" class=\"dataframe\">\n",
       "  <thead>\n",
       "    <tr style=\"text-align: right;\">\n",
       "      <th></th>\n",
       "      <th>Medicine_ID</th>\n",
       "      <th>Counterfeit_Sales</th>\n",
       "    </tr>\n",
       "  </thead>\n",
       "  <tbody>\n",
       "    <tr>\n",
       "      <th>0</th>\n",
       "      <td>HLZ81</td>\n",
       "      <td>2119.857763</td>\n",
       "    </tr>\n",
       "    <tr>\n",
       "      <th>1</th>\n",
       "      <td>ECE94</td>\n",
       "      <td>4052.386086</td>\n",
       "    </tr>\n",
       "    <tr>\n",
       "      <th>2</th>\n",
       "      <td>SAD14</td>\n",
       "      <td>1578.203589</td>\n",
       "    </tr>\n",
       "    <tr>\n",
       "      <th>3</th>\n",
       "      <td>EQV63</td>\n",
       "      <td>393.255069</td>\n",
       "    </tr>\n",
       "    <tr>\n",
       "      <th>4</th>\n",
       "      <td>AIR10</td>\n",
       "      <td>376.695769</td>\n",
       "    </tr>\n",
       "    <tr>\n",
       "      <th>5</th>\n",
       "      <td>LIC37</td>\n",
       "      <td>584.543199</td>\n",
       "    </tr>\n",
       "    <tr>\n",
       "      <th>6</th>\n",
       "      <td>EXZ14</td>\n",
       "      <td>3976.060195</td>\n",
       "    </tr>\n",
       "    <tr>\n",
       "      <th>7</th>\n",
       "      <td>UCB79</td>\n",
       "      <td>3751.238457</td>\n",
       "    </tr>\n",
       "    <tr>\n",
       "      <th>8</th>\n",
       "      <td>IDJ12</td>\n",
       "      <td>6000.919715</td>\n",
       "    </tr>\n",
       "    <tr>\n",
       "      <th>9</th>\n",
       "      <td>KLQ71</td>\n",
       "      <td>1578.203589</td>\n",
       "    </tr>\n",
       "    <tr>\n",
       "      <th>10</th>\n",
       "      <td>NZS82</td>\n",
       "      <td>2753.335349</td>\n",
       "    </tr>\n",
       "    <tr>\n",
       "      <th>11</th>\n",
       "      <td>TZV99</td>\n",
       "      <td>4052.386086</td>\n",
       "    </tr>\n",
       "    <tr>\n",
       "      <th>12</th>\n",
       "      <td>FWK70</td>\n",
       "      <td>2532.643056</td>\n",
       "    </tr>\n",
       "    <tr>\n",
       "      <th>13</th>\n",
       "      <td>LKL13</td>\n",
       "      <td>2651.992480</td>\n",
       "    </tr>\n",
       "    <tr>\n",
       "      <th>14</th>\n",
       "      <td>UFQ12</td>\n",
       "      <td>6128.036801</td>\n",
       "    </tr>\n",
       "    <tr>\n",
       "      <th>15</th>\n",
       "      <td>JPE14</td>\n",
       "      <td>3129.923280</td>\n",
       "    </tr>\n",
       "    <tr>\n",
       "      <th>16</th>\n",
       "      <td>SGZ11</td>\n",
       "      <td>2505.756107</td>\n",
       "    </tr>\n",
       "    <tr>\n",
       "      <th>17</th>\n",
       "      <td>JSD91</td>\n",
       "      <td>2651.992480</td>\n",
       "    </tr>\n",
       "    <tr>\n",
       "      <th>18</th>\n",
       "      <td>KSO48</td>\n",
       "      <td>3129.923280</td>\n",
       "    </tr>\n",
       "    <tr>\n",
       "      <th>19</th>\n",
       "      <td>LNA17</td>\n",
       "      <td>832.049743</td>\n",
       "    </tr>\n",
       "    <tr>\n",
       "      <th>20</th>\n",
       "      <td>XQB11</td>\n",
       "      <td>1711.051159</td>\n",
       "    </tr>\n",
       "    <tr>\n",
       "      <th>21</th>\n",
       "      <td>ZKO55</td>\n",
       "      <td>1711.051159</td>\n",
       "    </tr>\n",
       "    <tr>\n",
       "      <th>22</th>\n",
       "      <td>DZC65</td>\n",
       "      <td>901.726320</td>\n",
       "    </tr>\n",
       "    <tr>\n",
       "      <th>23</th>\n",
       "      <td>CYS10</td>\n",
       "      <td>3129.923280</td>\n",
       "    </tr>\n",
       "    <tr>\n",
       "      <th>24</th>\n",
       "      <td>IOW64</td>\n",
       "      <td>2532.643056</td>\n",
       "    </tr>\n",
       "    <tr>\n",
       "      <th>25</th>\n",
       "      <td>JJQ10</td>\n",
       "      <td>3129.923280</td>\n",
       "    </tr>\n",
       "    <tr>\n",
       "      <th>26</th>\n",
       "      <td>ZVR52</td>\n",
       "      <td>2165.049116</td>\n",
       "    </tr>\n",
       "    <tr>\n",
       "      <th>27</th>\n",
       "      <td>DRH86</td>\n",
       "      <td>862.301443</td>\n",
       "    </tr>\n",
       "    <tr>\n",
       "      <th>28</th>\n",
       "      <td>HWM68</td>\n",
       "      <td>2753.335349</td>\n",
       "    </tr>\n",
       "    <tr>\n",
       "      <th>29</th>\n",
       "      <td>OHY21</td>\n",
       "      <td>2489.661236</td>\n",
       "    </tr>\n",
       "    <tr>\n",
       "      <th>...</th>\n",
       "      <td>...</td>\n",
       "      <td>...</td>\n",
       "    </tr>\n",
       "    <tr>\n",
       "      <th>1675</th>\n",
       "      <td>PZT93</td>\n",
       "      <td>832.049743</td>\n",
       "    </tr>\n",
       "    <tr>\n",
       "      <th>1676</th>\n",
       "      <td>IAP71</td>\n",
       "      <td>3129.923280</td>\n",
       "    </tr>\n",
       "    <tr>\n",
       "      <th>1677</th>\n",
       "      <td>NZA81</td>\n",
       "      <td>862.301443</td>\n",
       "    </tr>\n",
       "    <tr>\n",
       "      <th>1678</th>\n",
       "      <td>RMY66</td>\n",
       "      <td>1711.051159</td>\n",
       "    </tr>\n",
       "    <tr>\n",
       "      <th>1679</th>\n",
       "      <td>KGF12</td>\n",
       "      <td>3129.923280</td>\n",
       "    </tr>\n",
       "    <tr>\n",
       "      <th>1680</th>\n",
       "      <td>UQJ12</td>\n",
       "      <td>1578.203589</td>\n",
       "    </tr>\n",
       "    <tr>\n",
       "      <th>1681</th>\n",
       "      <td>JXG94</td>\n",
       "      <td>1711.051159</td>\n",
       "    </tr>\n",
       "    <tr>\n",
       "      <th>1682</th>\n",
       "      <td>RXG14</td>\n",
       "      <td>1959.323814</td>\n",
       "    </tr>\n",
       "    <tr>\n",
       "      <th>1683</th>\n",
       "      <td>GLJ63</td>\n",
       "      <td>1711.051159</td>\n",
       "    </tr>\n",
       "    <tr>\n",
       "      <th>1684</th>\n",
       "      <td>MJB10</td>\n",
       "      <td>2033.443629</td>\n",
       "    </tr>\n",
       "    <tr>\n",
       "      <th>1685</th>\n",
       "      <td>PNK10</td>\n",
       "      <td>2165.049116</td>\n",
       "    </tr>\n",
       "    <tr>\n",
       "      <th>1686</th>\n",
       "      <td>TBT30</td>\n",
       "      <td>3821.677200</td>\n",
       "    </tr>\n",
       "    <tr>\n",
       "      <th>1687</th>\n",
       "      <td>TVS63</td>\n",
       "      <td>2489.661236</td>\n",
       "    </tr>\n",
       "    <tr>\n",
       "      <th>1688</th>\n",
       "      <td>NVY75</td>\n",
       "      <td>2165.049116</td>\n",
       "    </tr>\n",
       "    <tr>\n",
       "      <th>1689</th>\n",
       "      <td>GLS37</td>\n",
       "      <td>804.354512</td>\n",
       "    </tr>\n",
       "    <tr>\n",
       "      <th>1690</th>\n",
       "      <td>CQC14</td>\n",
       "      <td>3129.923280</td>\n",
       "    </tr>\n",
       "    <tr>\n",
       "      <th>1691</th>\n",
       "      <td>WLW19</td>\n",
       "      <td>388.341939</td>\n",
       "    </tr>\n",
       "    <tr>\n",
       "      <th>1692</th>\n",
       "      <td>PYY23</td>\n",
       "      <td>3848.796543</td>\n",
       "    </tr>\n",
       "    <tr>\n",
       "      <th>1693</th>\n",
       "      <td>SLY12</td>\n",
       "      <td>2532.643056</td>\n",
       "    </tr>\n",
       "    <tr>\n",
       "      <th>1694</th>\n",
       "      <td>VKK10</td>\n",
       "      <td>2711.998185</td>\n",
       "    </tr>\n",
       "    <tr>\n",
       "      <th>1695</th>\n",
       "      <td>TTJ13</td>\n",
       "      <td>1711.051159</td>\n",
       "    </tr>\n",
       "    <tr>\n",
       "      <th>1696</th>\n",
       "      <td>GSV13</td>\n",
       "      <td>1757.517903</td>\n",
       "    </tr>\n",
       "    <tr>\n",
       "      <th>1697</th>\n",
       "      <td>ZXN29</td>\n",
       "      <td>1711.051159</td>\n",
       "    </tr>\n",
       "    <tr>\n",
       "      <th>1698</th>\n",
       "      <td>RTV34</td>\n",
       "      <td>4130.162161</td>\n",
       "    </tr>\n",
       "    <tr>\n",
       "      <th>1699</th>\n",
       "      <td>VFE97</td>\n",
       "      <td>627.705767</td>\n",
       "    </tr>\n",
       "    <tr>\n",
       "      <th>1700</th>\n",
       "      <td>KXW10</td>\n",
       "      <td>3138.292070</td>\n",
       "    </tr>\n",
       "    <tr>\n",
       "      <th>1701</th>\n",
       "      <td>CKE54</td>\n",
       "      <td>832.049743</td>\n",
       "    </tr>\n",
       "    <tr>\n",
       "      <th>1702</th>\n",
       "      <td>HAY13</td>\n",
       "      <td>2934.808533</td>\n",
       "    </tr>\n",
       "    <tr>\n",
       "      <th>1703</th>\n",
       "      <td>ZEE32</td>\n",
       "      <td>3957.092633</td>\n",
       "    </tr>\n",
       "    <tr>\n",
       "      <th>1704</th>\n",
       "      <td>NDL93</td>\n",
       "      <td>4005.833228</td>\n",
       "    </tr>\n",
       "  </tbody>\n",
       "</table>\n",
       "<p>1705 rows × 2 columns</p>\n",
       "</div>"
      ],
      "text/plain": [
       "     Medicine_ID  Counterfeit_Sales\n",
       "0          HLZ81        2119.857763\n",
       "1          ECE94        4052.386086\n",
       "2          SAD14        1578.203589\n",
       "3          EQV63         393.255069\n",
       "4          AIR10         376.695769\n",
       "5          LIC37         584.543199\n",
       "6          EXZ14        3976.060195\n",
       "7          UCB79        3751.238457\n",
       "8          IDJ12        6000.919715\n",
       "9          KLQ71        1578.203589\n",
       "10         NZS82        2753.335349\n",
       "11         TZV99        4052.386086\n",
       "12         FWK70        2532.643056\n",
       "13         LKL13        2651.992480\n",
       "14         UFQ12        6128.036801\n",
       "15         JPE14        3129.923280\n",
       "16         SGZ11        2505.756107\n",
       "17         JSD91        2651.992480\n",
       "18         KSO48        3129.923280\n",
       "19         LNA17         832.049743\n",
       "20         XQB11        1711.051159\n",
       "21         ZKO55        1711.051159\n",
       "22         DZC65         901.726320\n",
       "23         CYS10        3129.923280\n",
       "24         IOW64        2532.643056\n",
       "25         JJQ10        3129.923280\n",
       "26         ZVR52        2165.049116\n",
       "27         DRH86         862.301443\n",
       "28         HWM68        2753.335349\n",
       "29         OHY21        2489.661236\n",
       "...          ...                ...\n",
       "1675       PZT93         832.049743\n",
       "1676       IAP71        3129.923280\n",
       "1677       NZA81         862.301443\n",
       "1678       RMY66        1711.051159\n",
       "1679       KGF12        3129.923280\n",
       "1680       UQJ12        1578.203589\n",
       "1681       JXG94        1711.051159\n",
       "1682       RXG14        1959.323814\n",
       "1683       GLJ63        1711.051159\n",
       "1684       MJB10        2033.443629\n",
       "1685       PNK10        2165.049116\n",
       "1686       TBT30        3821.677200\n",
       "1687       TVS63        2489.661236\n",
       "1688       NVY75        2165.049116\n",
       "1689       GLS37         804.354512\n",
       "1690       CQC14        3129.923280\n",
       "1691       WLW19         388.341939\n",
       "1692       PYY23        3848.796543\n",
       "1693       SLY12        2532.643056\n",
       "1694       VKK10        2711.998185\n",
       "1695       TTJ13        1711.051159\n",
       "1696       GSV13        1757.517903\n",
       "1697       ZXN29        1711.051159\n",
       "1698       RTV34        4130.162161\n",
       "1699       VFE97         627.705767\n",
       "1700       KXW10        3138.292070\n",
       "1701       CKE54         832.049743\n",
       "1702       HAY13        2934.808533\n",
       "1703       ZEE32        3957.092633\n",
       "1704       NDL93        4005.833228\n",
       "\n",
       "[1705 rows x 2 columns]"
      ]
     },
     "execution_count": 86,
     "metadata": {},
     "output_type": "execute_result"
    }
   ],
   "source": [
    "final"
   ]
  },
  {
   "cell_type": "code",
   "execution_count": 87,
   "metadata": {},
   "outputs": [],
   "source": [
    "pd.DataFrame(final).to_csv(\"ShraddhaShirke_Pro3.csv\",index=False)"
   ]
  },
  {
   "cell_type": "code",
   "execution_count": null,
   "metadata": {},
   "outputs": [],
   "source": []
  }
 ],
 "metadata": {
  "kernelspec": {
   "display_name": "Python 3",
   "language": "python",
   "name": "python3"
  },
  "language_info": {
   "codemirror_mode": {
    "name": "ipython",
    "version": 3
   },
   "file_extension": ".py",
   "mimetype": "text/x-python",
   "name": "python",
   "nbconvert_exporter": "python",
   "pygments_lexer": "ipython3",
   "version": "3.6.5"
  }
 },
 "nbformat": 4,
 "nbformat_minor": 2
}
